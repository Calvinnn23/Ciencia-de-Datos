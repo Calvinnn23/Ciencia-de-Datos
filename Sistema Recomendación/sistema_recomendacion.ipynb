{
 "cells": [
  {
   "cell_type": "markdown",
   "metadata": {},
   "source": [
    "# Algoritmo Sistema de Recomendación\n",
    "\n",
    "A continuación, se dará el código en JupyterNotebook para el algoritmo de sistema de recomendación."
   ]
  },
  {
   "cell_type": "code",
   "execution_count": null,
   "metadata": {},
   "outputs": [],
   "source": [
    " # importar librerias\n",
    "%matplotlib inline\n",
    "import pandas as pd\n",
    "import numpy as np\n",
    "import matplotlib.pyplot as plt\n",
    "import seaborn as sns\n",
    "\n",
    "sns.set_style(\"white\")"
   ]
  },
  {
   "cell_type": "markdown",
   "metadata": {},
   "source": [
    "- Este fragmento importa las librerías necesarias para el análisis de datos y la visualización. **`%matplotlib inline`** es un comando específico de Jupyter Notebook para mostrar gráficos dentro del mismo notebook.\n",
    "- Luego se importan `pandas`, `numpy`, `matplotlib.pyplot` y `seaborn`."
   ]
  },
  {
   "cell_type": "code",
   "execution_count": null,
   "metadata": {},
   "outputs": [],
   "source": [
    "route = \"C:/Users/ASUS/PythonNotebook/Datasets_CSV/\"\n",
    "colum_names = [\"user_id\", \"item_id\", \"rating\", \"timestamp\"]\n",
    "dataframe = pd.read_csv(route + \"u.data\", sep = \"\\t\", names = colum_names)\n",
    "dataframe.head()"
   ]
  },
  {
   "cell_type": "markdown",
   "metadata": {},
   "source": [
    "- Leemos un conjunto de datos desde un archivo CSV llamado \"u.data\" en una variable llamada **`dataframe`**.\n",
    "- Separa las columnas por tabulaciones y asigna nombres a las columnas."
   ]
  },
  {
   "cell_type": "code",
   "execution_count": null,
   "metadata": {},
   "outputs": [],
   "source": [
    "movie_titles = pd.read_csv(route + \"Movie_Id_Titles\")\n",
    "movie_titles.head()"
   ]
  },
  {
   "cell_type": "markdown",
   "metadata": {},
   "source": [
    "Lee el archivo \"Movie_Id_Titles\" que contiene los títulos de las películas."
   ]
  },
  {
   "cell_type": "code",
   "execution_count": null,
   "metadata": {},
   "outputs": [],
   "source": [
    "dataframe = pd.merge(dataframe, movie_titles, on = \"item_id\")\n",
    "dataframe.head()"
   ]
  },
  {
   "cell_type": "markdown",
   "metadata": {},
   "source": [
    "Combina los datos de calificaciones con los títulos de películas basándose en el ID de la película."
   ]
  },
  {
   "cell_type": "code",
   "execution_count": null,
   "metadata": {},
   "outputs": [],
   "source": [
    "# clasificar (agrupar) por titulo y puntuacion\n",
    "# contar calificaciones (.count())\n",
    "dataframe.groupby(\"title\")[\"rating\"].count().sort_values(ascending = False).head()"
   ]
  },
  {
   "cell_type": "code",
   "execution_count": null,
   "metadata": {},
   "outputs": [],
   "source": [
    "# media de calificaciones (.mean())\n",
    "dataframe.groupby(\"title\")[\"rating\"].mean().sort_values(ascending = False).head()"
   ]
  },
  {
   "cell_type": "markdown",
   "metadata": {},
   "source": [
    "Utiliza el método groupby para calcular el número de calificaciones y la media de calificaciones por título de película."
   ]
  },
  {
   "cell_type": "code",
   "execution_count": null,
   "metadata": {},
   "outputs": [],
   "source": [
    "# obtener media de rating por cada pelicula\n",
    "ratings = pd.DataFrame(dataframe.groupby(\"title\")[\"rating\"].mean())\n",
    "ratings.head()"
   ]
  },
  {
   "cell_type": "code",
   "execution_count": null,
   "metadata": {},
   "outputs": [],
   "source": [
    "# añadir columna (numero de calificaciones) a ratings\n",
    "ratings[\"num_of_ratings\"] = pd.DataFrame(dataframe.groupby(\"title\")[\"rating\"].count())\n",
    "ratings.head()"
   ]
  },
  {
   "cell_type": "markdown",
   "metadata": {},
   "source": [
    "Crea un DataFrame llamado ratings que contiene la media de calificaciones y el número de calificaciones para cada película."
   ]
  },
  {
   "cell_type": "code",
   "execution_count": null,
   "metadata": {},
   "outputs": [],
   "source": [
    "# histograma de numero de ratings\n",
    "plt.figure(figsize = (10, 4))\n",
    "plt.title(\"Num of ratings histogram\")\n",
    "plt.xlabel(\"Num Movies\")\n",
    "plt.ylabel(\"Num Users\")\n",
    "ratings[\"num_of_ratings\"].hist(bins = 70)"
   ]
  },
  {
   "cell_type": "code",
   "execution_count": null,
   "metadata": {},
   "outputs": [],
   "source": [
    "# histograma de ratings\n",
    "plt.figure(figsize = (10, 4))\n",
    "plt.title(\"Rating histogram\")\n",
    "plt.xlabel(\"Rating\")\n",
    "plt.ylabel(\"Num Users\")\n",
    "ratings[\"rating\"].hist(bins = 70)"
   ]
  },
  {
   "cell_type": "markdown",
   "metadata": {},
   "source": [
    "Crea histogramas para visualizar la distribución del número de calificaciones y de las calificaciones."
   ]
  },
  {
   "cell_type": "code",
   "execution_count": null,
   "metadata": {},
   "outputs": [],
   "source": [
    "# grafico conjunto de ratings y numero de ratings\n",
    "sns.jointplot(x = \"rating\", y = \"num_of_ratings\", data = ratings, alpha = 0.5)"
   ]
  },
  {
   "cell_type": "markdown",
   "metadata": {},
   "source": [
    "Crea un gráfico conjunto utilizando sns.jointplot para visualizar la relación entre la calificación media y el número de calificaciones."
   ]
  },
  {
   "cell_type": "code",
   "execution_count": null,
   "metadata": {},
   "outputs": [],
   "source": [
    "# pre procesamiento de datos\n",
    "# datos de calificacion para cada pelicula por cada usuario \n",
    "movieMat = dataframe.pivot_table(index = \"user_id\", columns = \"title\", values = \"rating\")\n",
    "movieMat.head()"
   ]
  },
  {
   "cell_type": "markdown",
   "metadata": {},
   "source": [
    "Utiliza pivot_table para crear una matriz de películas y usuarios donde las filas son usuarios, las columnas son películas y los valores son las calificaciones dadas por los usuarios."
   ]
  },
  {
   "cell_type": "code",
   "execution_count": null,
   "metadata": {},
   "outputs": [],
   "source": [
    "# listar peliculas con mejor media de rating y su numero de ratings\n",
    "ratings.sort_values(\"num_of_ratings\", ascending = False).head(10)"
   ]
  },
  {
   "cell_type": "code",
   "execution_count": null,
   "metadata": {},
   "outputs": [],
   "source": [
    "# obtener valores de dos peliculas\n",
    "starwars_user_ratings = movieMat[\"Star Wars (1977)\"]\n",
    "liarliar_user_ratings = movieMat[\"Liar Liar (1997)\"]\n",
    "starwars_user_ratings.head(10)"
   ]
  },
  {
   "cell_type": "code",
   "execution_count": null,
   "metadata": {},
   "outputs": [],
   "source": [
    "# Correlación entre peliculas mas valoradas\n",
    "similarToStarwars = movieMat.corrwith(starwars_user_ratings)\n",
    "similarToLiarliar = movieMat.corrwith(liarliar_user_ratings)"
   ]
  },
  {
   "cell_type": "code",
   "execution_count": null,
   "metadata": {},
   "outputs": [],
   "source": [
    "# el codigo anterior tira error porque hay valores nulos, ya que no todos los usuarios\n",
    "# calificaron todas las peliculas\n",
    "corrStarwars = pd.DataFrame(similarToStarwars, columns = [\"Correlation\"])\n",
    "corrStarwars.dropna(inplace = True)\n",
    "corrStarwars.head()"
   ]
  },
  {
   "cell_type": "code",
   "execution_count": null,
   "metadata": {},
   "outputs": [],
   "source": [
    "# ordenar datos por correlacion\n",
    "corrStarwars.sort_values(\"Correlation\", ascending = False).head(10)"
   ]
  },
  {
   "cell_type": "markdown",
   "metadata": {},
   "source": [
    "- Calcula la correlación entre las calificaciones de \"Star Wars (1977)\" y todas las demás películas, y entre las calificaciones de \"Liar Liar (1997)\" y todas las demás películas.\n",
    "- Limpia los valores nulos y muestra las películas más correlacionadas con \"Star Wars\" y \"Liar Liar\", respectivamente."
   ]
  },
  {
   "cell_type": "code",
   "execution_count": null,
   "metadata": {},
   "outputs": [],
   "source": [
    "# filtrar peliculas\n",
    "corrStarwars = corrStarwars.join(ratings[\"num_of_ratings\"])\n",
    "corrStarwars.head(10)"
   ]
  },
  {
   "cell_type": "code",
   "execution_count": null,
   "metadata": {},
   "outputs": [],
   "source": [
    "# filtrar por numero de ratings mator a 100\n",
    "corrStarwars[corrStarwars[\"num_of_ratings\"] > 100].sort_values(\"Correlation\", ascending = False).head(10)"
   ]
  },
  {
   "cell_type": "markdown",
   "metadata": {},
   "source": [
    "Filtra las películas basándose en el número mínimo de calificaciones (mayor a 100) y muestra las películas más correlacionadas con \"Star Wars\" y \"Liar Liar\" que cumplen con este criterio."
   ]
  },
  {
   "cell_type": "code",
   "execution_count": null,
   "metadata": {},
   "outputs": [],
   "source": [
    "# repetir proceso para otra pelicula\n",
    "corrLiarliar = pd.DataFrame(similarToLiarliar, columns = [\"Correlation\"])\n",
    "corrLiarliar.dropna(inplace = True)\n",
    "corrLiarliar = corrLiarliar.join(ratings[\"num_of_ratings\"])\n",
    "corrLiarliar[corrLiarliar[\"num_of_ratings\"] > 100].sort_values(\"Correlation\", ascending = False).head(10)"
   ]
  },
  {
   "cell_type": "markdown",
   "metadata": {},
   "source": [
    "Se repite el mismo proceso para la otra pelicula “Liar Liar”."
   ]
  }
 ],
 "metadata": {
  "language_info": {
   "name": "python"
  }
 },
 "nbformat": 4,
 "nbformat_minor": 2
}
