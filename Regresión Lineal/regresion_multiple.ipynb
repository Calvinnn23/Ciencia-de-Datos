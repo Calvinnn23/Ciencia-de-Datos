{
 "cells": [
  {
   "cell_type": "markdown",
   "metadata": {},
   "source": [
    "# Algoritmo Regresión Lineal Múltiple\n",
    "\n",
    "A continuación, se dará el código en JupyterNotebook para el algoritmo de regresión lineal múltiple."
   ]
  },
  {
   "cell_type": "code",
   "execution_count": null,
   "metadata": {},
   "outputs": [],
   "source": [
    "# import libraries\n",
    "import pandas as pd\n",
    "import numpy as np\n",
    "import matplotlib.pyplot as plt\n",
    "from sklearn.linear_model import LinearRegression\n",
    "from sklearn.compose import ColumnTransformer\n",
    "from sklearn.preprocessing import OneHotEncoder\n",
    "from sklearn.model_selection import train_test_split\n",
    "from sklearn import metrics "
   ]
  },
  {
   "cell_type": "markdown",
   "metadata": {},
   "source": [
    "1. **`pandas as pd`:** Importa la librería Pandas para manejo de datos.\n",
    "2. **`numpy as np`:** Importa la librería NumPy para operaciones matemáticas.\n",
    "3. **`matplotlib.pyplot as plt`:** Importa la librería Matplotlib para la creación de gráficos.\n",
    "4. **`from sklearn.linear_model import LinearRegression`:** Importa la clase LinearRegression de scikit-learn para la regresión lineal.\n",
    "5. **`from sklearn.compose import ColumnTransformer`:** Importa la clase ColumnTransformer de scikit-learn para la transformación de columnas.\n",
    "6. **`from sklearn.preprocessing import OneHotEncoder`:** Importa la clase OneHotEncoder de scikit-learn para codificación categórica.\n",
    "7. **`from sklearn.model_selection import train_test_split`:** Importa la función train_test_split de scikit-learn para dividir datos en entrenamiento y prueba.\n",
    "8. **`from sklearn import metrics`:** Importa el submódulo metrics de la librería sklearnn. Este submódulo proporciona una colección de funciones para evaluar el rendimiento de los modelos de aprendizaje automático."
   ]
  },
  {
   "cell_type": "code",
   "execution_count": null,
   "metadata": {},
   "outputs": [],
   "source": [
    "# reading dataset \n",
    "dataset = pd.read_csv(\"50_Startups.csv\")\n",
    "x = dataset.iloc[:, : -1]\n",
    "y = dataset.iloc[:, -1].values\n",
    "dataset.head(5)"
   ]
  },
  {
   "cell_type": "markdown",
   "metadata": {},
   "source": [
    "1. **`dataset = pd.read_csv(\"50_Startups.csv\")`:** Lee el dataset \"50_Startups.csv\" en un DataFrame de Pandas.\n",
    "2. **`x = dataset.iloc[:, : -1]`:** Extrae las características independientes (todas las columnas excepto la última) del DataFrame y las asigna a la variable x.\n",
    "3. **`y = dataset.iloc[:, -1].values`:** Extrae la variable dependiente (última columna) del DataFrame y la convierte en un array NumPy y la asigna a la variable y.\n",
    "4. **`dataset.headead(5)`:** Muestra las primeras 5 filas del DataFrame para una vista previa de los datos."
   ]
  },
  {
   "cell_type": "code",
   "execution_count": null,
   "metadata": {},
   "outputs": [],
   "source": [
    "ct = ColumnTransformer(transformers = [(\"encoder\", OneHotEncoder(), [3])], remainder = \"passthrough\")\n",
    "x = np.array(ct.fit_transform(x))\n",
    "x"
   ]
  },
  {
   "cell_type": "markdown",
   "metadata": {},
   "source": [
    "1. **`ct = ColumnTransformer(...)`:** Crea un objeto ColumnTransformer para transformar las columnas.\n",
    "2. **`transformers = [(\"encoder\", OneHotEncoder(), [3])]`:** Especifica que la columna en el índice 3 (variable categórica) se codificará con OneHotEncoder.\n",
    "3. **`remainder = \"passthrough\"`:** Indica que las demás columnas se pasarán sin cambios.\n",
    "4. **`x = np.array(ct.fit_transform(x))`:** Aplica la transformación a las características independientes y las convierte en un array NumPy,\n",
    "almacenándolas en `x`."
   ]
  },
  {
   "cell_type": "code",
   "execution_count": null,
   "metadata": {},
   "outputs": [],
   "source": [
    "x_train, x_test, y_train, y_test = train_test_split(x, y, test_size = 0.2)"
   ]
  },
  {
   "cell_type": "markdown",
   "metadata": {},
   "source": [
    "x_train, x_test, y_train, y_test = train_test_split(x, y, test_size = 0.2): Divide las características (x) y la variable dependiente (y) en conjuntos de entrenamiento (80%) y prueba (20%)."
   ]
  },
  {
   "cell_type": "code",
   "execution_count": null,
   "metadata": {},
   "outputs": [],
   "source": [
    "regressor = LinearRegression()\n",
    "regressor.fit(x_train, y_train)"
   ]
  },
  {
   "cell_type": "markdown",
   "metadata": {},
   "source": [
    "1. **`regressor = LinearRegression()`:** Crea un objeto del modelo de regresión lineal.\n",
    "2. **`regressor.fit(x_train, y_train)`:** Entrena el modelo de regresión lineal usando los datos de entrenamiento (`x_train` y `y_train`)."
   ]
  },
  {
   "cell_type": "code",
   "execution_count": null,
   "metadata": {},
   "outputs": [],
   "source": [
    "y_pred = regressor.predict(x_test)"
   ]
  },
  {
   "cell_type": "markdown",
   "metadata": {},
   "source": [
    "y_pred = regressor.predict(x_test): Utiliza el modelo entrenado para predecir la variable dependiente para el conjunto de prueba (x_test), almacenando las predicciones en y_pred."
   ]
  },
  {
   "cell_type": "code",
   "execution_count": null,
   "metadata": {},
   "outputs": [],
   "source": [
    "df = pd.DataFrame({\"Real Values\": y_test, \"Predicted Values\": y_pred})\n",
    "df"
   ]
  },
  {
   "cell_type": "markdown",
   "metadata": {},
   "source": [
    "1. **`\"Real Values\"`:** Almacena los valores reales de la variable dependiente para el conjunto de prueba (`y_test`).\n",
    "2. **`\"Predicted Values\"`:** Almacena las predicciones realizadas por el modelo para el conjunto deprueba (`y_pred`)."
   ]
  },
  {
   "cell_type": "code",
   "execution_count": null,
   "metadata": {},
   "outputs": [],
   "source": [
    "# RMSE \n",
    "print(np.sqrt(metrics.mean_squared_error(y_test, y_pred)))"
   ]
  },
  {
   "cell_type": "markdown",
   "metadata": {},
   "source": [
    "1. Se calcula el MSE llamando a `mean_squared_error` y pasando los valores reales (`y_test`) y las predicciones (`y_pred`) del modelo.\n",
    "2. Se calcula la raíz cuadrada del MSE utilizando `np.sqrt` para obtener el RMSE.\n",
    "3. Finalmente, se imprime el valor del RMSE utilizando la función `print`."
   ]
  }
 ],
 "metadata": {
  "language_info": {
   "name": "python"
  }
 },
 "nbformat": 4,
 "nbformat_minor": 2
}
