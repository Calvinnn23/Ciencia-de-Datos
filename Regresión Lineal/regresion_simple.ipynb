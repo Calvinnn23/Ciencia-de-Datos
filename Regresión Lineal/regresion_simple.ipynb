{
 "cells": [
  {
   "cell_type": "markdown",
   "metadata": {},
   "source": [
    "# Algoritmo Regresión lineal Simple\n",
    "\n",
    "A continuación, se dará el código en JupyterNotebook para el algoritmo de regresión lineal simple."
   ]
  },
  {
   "cell_type": "code",
   "execution_count": null,
   "metadata": {},
   "outputs": [],
   "source": [
    "# importar librerias\n",
    "import pandas as pd\n",
    "import numpy as np\n",
    "import matplotlib.pyplot as plt\n",
    "from sklearn.linear_model import LinearRegression"
   ]
  },
  {
   "cell_type": "markdown",
   "metadata": {},
   "source": [
    "1. **`pandas as pd`:** Importa la librería Pandas para manejo de datos.\n",
    "2. **`numpy as np`:** Importa la librería NumPy para operaciones matemáticas.\n",
    "3. **`matplotlib.pyplot as plt`:** Importa la librería Matplotlib para la creación de gráficos.\n",
    "4. **`from sklearn.linear_model import LinearRegression`:** Importa la clase LinearRegression de scikit-learn para la regresión lineal."
   ]
  },
  {
   "cell_type": "markdown",
   "metadata": {},
   "source": []
  },
  {
   "cell_type": "code",
   "execution_count": null,
   "metadata": {},
   "outputs": [],
   "source": [
    "# leyendo dataframe\n",
    "df = pd.read_csv(\"homeprices.CSV\")\n",
    "df"
   ]
  },
  {
   "cell_type": "markdown",
   "metadata": {},
   "source": [
    "1. Se lee el archivo CSV \"homeprices.CSV\" utilizando la función `read_csv` de pandas y se guarda en un DataFrame llamado `df`.\n",
    "2. Se imprime el DataFrame para tener una vista general de los datos.."
   ]
  },
  {
   "cell_type": "code",
   "execution_count": null,
   "metadata": {},
   "outputs": [],
   "source": [
    "plt.xlabel(\"Area(sqr ft)\")\n",
    "plt.ylabel(\"Price(US$)\")\n",
    "plt.scatter(df.Area, df.Price, color = \"blue\")"
   ]
  },
  {
   "cell_type": "markdown",
   "metadata": {},
   "source": [
    "1. Se configuran las etiquetas de los ejes X e Y con `\"Area(sqr ft)\"` y `\"Price(US$)\"`, respectivamente.\n",
    "2. Se crea un gráfico de dispersión donde cada punto representa el precio de una casa en función de su área.\n",
    "3. El color de los puntos se establece en azul."
   ]
  },
  {
   "cell_type": "code",
   "execution_count": null,
   "metadata": {},
   "outputs": [],
   "source": [
    "reg = LinearRegression()\n",
    "reg.fit(df[[\"Area\"]], df.Price)"
   ]
  },
  {
   "cell_type": "markdown",
   "metadata": {},
   "source": [
    "1. Se crea una instancia del modelo de regresión lineal `reg` utilizando la clase `LinearRegression`.\n",
    "2. Se entrena el modelo usando la función `fi`t con los datos de área (columna `\"Area`\") como variable independiente `(X)` y los precios (columna `\"Price`\") como variable dependiente `(y)`"
   ]
  },
  {
   "cell_type": "code",
   "execution_count": null,
   "metadata": {},
   "outputs": [],
   "source": [
    "reg.predict([[3300]])"
   ]
  },
  {
   "cell_type": "markdown",
   "metadata": {},
   "source": [
    "1. Se utiliza la función `predict` del modelo entrenado para predecir el precio de una casa con un área de 3300 pies cuadrados.\n",
    "2. Se pasa una lista anidada que contiene un solo elemento, el área de 3300, como entrada a la función `predict`."
   ]
  },
  {
   "cell_type": "code",
   "execution_count": null,
   "metadata": {},
   "outputs": [],
   "source": [
    "reg.coef_"
   ]
  },
  {
   "cell_type": "markdown",
   "metadata": {},
   "source": [
    "1. Se obtiene el vector de coeficientes del modelo entrenado usando la propiedad `coef_`.\n",
    "2. El primer coeficiente (índice 0) representa la pendiente de la línea de regresión, que indica cuánto cambia el precio por cada unidad de aumento en el área"
   ]
  },
  {
   "cell_type": "markdown",
   "metadata": {},
   "source": [
    "reg.intercept_"
   ]
  },
  {
   "cell_type": "markdown",
   "metadata": {},
   "source": [
    "1. Se obtiene el intercepto del modelo entrenado usando la propiedad `intercept_`.\n",
    "2. El intercepto representa el precio base de una casa cuando el área es 0."
   ]
  },
  {
   "cell_type": "code",
   "execution_count": null,
   "metadata": {},
   "outputs": [],
   "source": [
    "coef = 135.78767123\n",
    "intercep = 180616.43835616432\n",
    "area = 3300\n",
    "# {coeficiente} * {area} + {intercepto} = {predicción}\n",
    "predict = coef * area + intercep\n",
    "print(predict)\n",
    "reg.predict([[3300]])"
   ]
  },
  {
   "cell_type": "markdown",
   "metadata": {},
   "source": [
    "1. Se almacenan los valores de los coeficientes (`coef`) e intercepto (`intercep`) obtenidos anteriormente.\n",
    "2. Se define el área (area) para la cual se desea realizar la predicción (3300 pies cuadrados).\n",
    "3. Se calcula la predicción del precio manualmente utilizando la fórmula:\n",
    "    \n",
    "     prediccion = coeficiente * area + intercepto.\n",
    "    \n",
    "4. Se imprime el valor de la predicción y se prueba la igualdad de ambas predicciones."
   ]
  },
  {
   "cell_type": "markdown",
   "metadata": {},
   "source": []
  }
 ],
 "metadata": {
  "language_info": {
   "name": "python"
  }
 },
 "nbformat": 4,
 "nbformat_minor": 2
}
