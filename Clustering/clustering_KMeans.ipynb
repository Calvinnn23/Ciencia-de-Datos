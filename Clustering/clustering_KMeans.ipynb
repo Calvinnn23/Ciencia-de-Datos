{
 "cells": [
  {
   "cell_type": "markdown",
   "metadata": {},
   "source": [
    "# Algoritmo Clustering K-Means\n",
    "\n",
    "A continuación, se dará el código en JupyterNotebook para el algoritmo de clustering K-Means."
   ]
  },
  {
   "cell_type": "code",
   "execution_count": null,
   "metadata": {},
   "outputs": [],
   "source": [
    "# importar librerias\n",
    "%matplotlib inline\n",
    "from copy import deepcopy\n",
    "import pandas as pd\n",
    "import numpy as np\n",
    "import matplotlib.pyplot as plt\n",
    "from sklearn.cluster import KMeans\n",
    "from sklearn.datasets import make_blobs\n",
    "from mpl_toolkits.mplot3d import Axes3D"
   ]
  },
  {
   "cell_type": "markdown",
   "metadata": {},
   "source": [
    "- **`%matplotlib inline`**: Esta es una \"magic function\" de Jupyter Notebook que permite mostrar las gráficas generadas por Matplotlib directamente en el notebook.\n",
    "- **`from copy import deepcopy`**: Se importa la función **`deepcopy`** desde el módulo **`copy`**. Esta función se utiliza para realizar una copia profunda de objetos.\n",
    "- **`import pandas as pd`**: Pandas es una biblioteca de Python que proporciona estructuras de datos y herramientas para el análisis de datos.\n",
    "- **`import numpy as np`**: NumPy es una biblioteca de Python utilizada principalmente para operaciones numéricas.\n",
    "- **`import matplotlib.pyplot as plt`**: Matplotlib es una biblioteca de visualización de datos en Python.\n",
    "- **`from sklearn.cluster import KMeans`**: Se importa la clase **`KMeans`** de **`scikit-learn`**, que se utilizará para realizar el clustering mediante el algoritmo K-Means.\n",
    "- **`from sklearn.datasets import make_blobs`**: Esta función se utiliza para generar conjuntos de datos de prueba con grupos de puntos distribuidos uniformemente.\n",
    "- **`from mpl_toolkits.mplot3d import Axes3D`**: Se importa Axes3D desde **`mpl_toolkits.mplot3d`** para permitir la visualización de gráficos 3D."
   ]
  },
  {
   "cell_type": "code",
   "execution_count": null,
   "metadata": {},
   "outputs": [],
   "source": [
    "plt.rcParams[\"figure.figsize\"] = (16, 9)\n",
    "plt.style.use(\"ggplot\")"
   ]
  },
  {
   "cell_type": "markdown",
   "metadata": {},
   "source": [
    "plt.rcParams[\"figure.figsize\"] = (16, 9): Establece el tamaño predeterminado de las figuras generadas por Matplotlib.plt.style.use(\"ggplot\"): Establece el estilo de las gráficas como \"ggplot\"."
   ]
  },
  {
   "cell_type": "code",
   "execution_count": null,
   "metadata": {},
   "outputs": [],
   "source": [
    "# importar dataset\n",
    "route = \"C:/Users/ASUS/PythonNotebook/Datasets_CSV/mallCustomerData.txt\"\n",
    "dataset = pd.read_csv(route, sep = \",\")\n",
    "print(dataset.shape)\n",
    "dataset.head(10)"
   ]
  },
  {
   "cell_type": "markdown",
   "metadata": {},
   "source": [
    "- La variable **`route`** contiene la ruta del archivo del conjunto de datos.\n",
    "- Se utiliza **`pd.read_csv()`** para cargar el conjunto de datos desde el archivo CSV especificado en **`route`**.\n",
    "- **`print(dataset.shape)`**: Muestra la forma (número de filas y columnas) del conjunto de datos.\n",
    "- **`dataset.head(10)`**: Muestra las primeras 10 filas del conjunto de datos."
   ]
  },
  {
   "cell_type": "code",
   "execution_count": null,
   "metadata": {},
   "outputs": [],
   "source": [
    "print(dataset[\"Gender\"].value_counts())"
   ]
  },
  {
   "cell_type": "markdown",
   "metadata": {},
   "source": [
    "print(dataset[\"Gender\"].value_counts()): Cuenta el número de ocurrencias de cada valor único en la columna \"Gender\" del conjunto de datos."
   ]
  },
  {
   "cell_type": "code",
   "execution_count": null,
   "metadata": {},
   "outputs": [],
   "source": [
    "# obtener valores y graficarlos\n",
    "f1 = dataset[\"Annual Income (k$)\"].values\n",
    "f2 = dataset[\"Spending Score (1-100)\"].values\n",
    "\n",
    "for key in dataset.keys():\n",
    "    print(key)\n",
    "\n",
    "x = np.array(list(zip(f1, f2)))\n",
    "# x = [[1, 1], [2, 2], [3, 3], [4, 4]]\n",
    "plt.xlabel(\"Annual Income (k$)\")\n",
    "plt.ylabel(\"Spending Score (1-100)\")\n",
    "plt.scatter(f1, f2, s = 20, color = \"blue\")"
   ]
  },
  {
   "cell_type": "markdown",
   "metadata": {},
   "source": [
    "- Se extraen las columnas `\"Annual Income (k$)\"` y `\"Spending Score (1-100)\"` del conjunto de datos y se almacenan en las variables **`f1`** y **`f2`** respectivamente.\n",
    "- Se crea un array **`x`** que contiene las características seleccionadas, formando pares de valores de \"Annual Income (k$)\" y \"Spending Score (1-100)\".\n",
    "- Se genera una gráfica de dispersión (**`scatter plot`**) de los datos utilizando las características seleccionadas."
   ]
  },
  {
   "cell_type": "code",
   "execution_count": null,
   "metadata": {},
   "outputs": [],
   "source": [
    "# numero clusters\n",
    "kmeans = KMeans(n_clusters = 3)\n",
    "# ajustar datos entrada\n",
    "kmeans = kmeans.fit(x)\n",
    "# obtener etiquetas clusters\n",
    "labels = kmeans.predict(x)\n",
    "# valores centroide\n",
    "c = kmeans.cluster_centers_\n",
    "print(c)"
   ]
  },
  {
   "cell_type": "markdown",
   "metadata": {},
   "source": [
    "- Se instancia un objeto **`KMeans`** con 3 clusters (**`n_clusters = 3`**).\n",
    "- Se ajusta el modelo KMeans a los datos utilizando el método **`fit()`**.\n",
    "- Se predicen los clusters para cada muestra utilizando el método **`predict()`**.\n",
    "- Se obtienen los centroides de los clusters utilizando el atributo **`cluster_centers_`**."
   ]
  },
  {
   "cell_type": "code",
   "execution_count": null,
   "metadata": {},
   "outputs": [],
   "source": [
    "fig = plt.figure()\n",
    "ax = fig.add_subplot(111, projection='3d')\n",
    "ax.scatter(x[:, 0], x[:, 1], x[:, 1])\n",
    "ax.set_xlabel('X')\n",
    "ax.set_ylabel('Y')\n",
    "ax.set_zlabel('Z')"
   ]
  },
  {
   "cell_type": "markdown",
   "metadata": {},
   "source": [
    "- Se crea una nueva figura utilizando **`plt.figure()`** y se agrega un subplot 3D a esa figura utilizando **`fig.add_subplot(111, projection='3d')`**. Esto crea un espacio tridimensional donde se trazarán los datos y los centroides de los clusters.\n",
    "- Se utilizan los datos de entrada **`x`** para trazar los puntos en la gráfica tridimensional. En este caso, **`x[:, 0]`** representa la coordenada x, **`x[:, 1]`** representa la coordenada y, y **`x[:, 1]`** representa la coordenada z. Esto crea un scatter plot de los datos en la gráfica 3D.\n",
    "- Se agregan etiquetas a los ejes de la gráfica tridimensional para indicar qué representan las coordenadas x, y y z."
   ]
  },
  {
   "cell_type": "code",
   "execution_count": null,
   "metadata": {},
   "outputs": [],
   "source": [
    "fig = plt.figure()\n",
    "ax = fig.add_subplot(111, projection='3d')\n",
    "ax.scatter(x[:, 0], x[:, 1], x[:, 1])\n",
    "ax.scatter(c[:, 0], c[:, 1], c[:, 1], color = \"blue\", marker = \"*\", s = 1000)\n",
    "ax.set_xlabel('X')\n",
    "ax.set_ylabel('Y')\n",
    "ax.set_zlabel('Z')"
   ]
  },
  {
   "cell_type": "markdown",
   "metadata": {},
   "source": [
    "- Se utilizan los centroides de los clusters **`c`** para trazar puntos adicionales en la gráfica tridimensional.\n",
    "- Estos puntos se muestran como estrellas azules (**`color = \"blue\"`**, **`marker = \"*\"`**) y se escala su tamaño a 1000 (**`s = 1000`**)."
   ]
  },
  {
   "cell_type": "code",
   "execution_count": null,
   "metadata": {},
   "outputs": [],
   "source": [
    "# inicializando kmeans\n",
    "kmeans = KMeans(n_clusters = 4)\n",
    "# ajuste datos entrada\n",
    "kmeans = kmeans.fit(x)\n",
    "# prediciendo clusters\n",
    "labels = kmeans.predict(x)\n",
    "# obtener centro clusters\n",
    "c = kmeans.cluster_centers_\n",
    "print(labels)"
   ]
  },
  {
   "cell_type": "markdown",
   "metadata": {},
   "source": [
    "- Se repite el proceso de clustering con un nuevo objeto **`KMeans`** que tiene 4 clusters (**`n_clusters = 4`**).\n",
    "- Luego se ajusta el modelo a los datos, se predicen los clusters para cada muestra y se obtienen los nuevos centroides de los clusters.\n",
    "- Finalmente, se imprimen las etiquetas de los clusters (**`print(labels)`**)."
   ]
  }
 ],
 "metadata": {
  "language_info": {
   "name": "python"
  }
 },
 "nbformat": 4,
 "nbformat_minor": 2
}
