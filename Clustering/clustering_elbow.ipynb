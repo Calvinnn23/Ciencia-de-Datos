{
 "cells": [
  {
   "cell_type": "markdown",
   "metadata": {},
   "source": [
    "# Algoritmo Clustering Método Elbow\n",
    "\n",
    "A continuación, se dará el código en JupyterNotebook para el algoritmo de clustering."
   ]
  },
  {
   "cell_type": "code",
   "execution_count": null,
   "metadata": {},
   "outputs": [],
   "source": [
    "# importar librerias\n",
    "import pandas as pd\n",
    "import numpy as np\n",
    "import matplotlib.pyplot as plt\n",
    "from sklearn.cluster import KMeans\n",
    "from sklearn.datasets import make_blobs\n",
    "from mpl_toolkits.mplot3d import Axes3D"
   ]
  },
  {
   "cell_type": "markdown",
   "metadata": {},
   "source": [
    "- `pandas (pd)`: No se utiliza en esta parte del código. Se suele utilizar para manipular y analizar datos tabulares.\n",
    "- `numpy (np)`: Probablemente se utiliza para crear los datos de muestra con `make_blobs`.\n",
    "- `matplotlib.pyplot (plt)`: Se utiliza para crear visualizaciones (gráficos en este caso).\n",
    "- `from sklearn.cluster import KMeans`: Importa la clase `KMeans` para realizar clustering de datos.\n",
    "- `from sklearn.datasets import make_blobs`: Importa la función `make_blobs` para generar datos de muestra con múltiples clusters.\n",
    "- `from mpl_toolkits.mplot3d import Axes3D`: Importa la clase `Axes3D` para crear gráficos 3D (en caso de tener características de 3 dimensiones)."
   ]
  },
  {
   "cell_type": "code",
   "execution_count": null,
   "metadata": {},
   "outputs": [],
   "source": [
    "plt. rcParams[\"figure.figsize\"] = (16, 9)\n",
    "# creando una muestra de dataset con 4 clusters\n",
    "x, y = make_blobs(n_samples = 800, n_features = 3, centers = 4)\n",
    "x"
   ]
  },
  {
   "cell_type": "markdown",
   "metadata": {},
   "source": [
    "- `plt.rcParams[\"figure.figsize\"] = (16, 9)`: Establece el tamaño predeterminado de las figuras creadas con `plt` a 16 pulgadas de ancho y 9 pulgadas de alto.\n",
    "- Genera un conjunto de datos de muestra con 800 muestras, 3 características y 4 centros utilizando la función **`make_blobs`**.\n",
    "- Las coordenadas de las muestras generadas y sus etiquetas se asignan a las variables **`x`** y **`y`** respectivamente."
   ]
  },
  {
   "cell_type": "code",
   "execution_count": null,
   "metadata": {},
   "outputs": [],
   "source": [
    "# encontrar numero optimo de clusteres usando metodo elbow\n",
    "wcss_list = [] # inicializando lista para los valores WCSS\n",
    "# 10 iteraciones\n",
    "for i in range(1, 11):\n",
    "    kmeans = KMeans(n_clusters = i, init = \"k-means++\", random_state = 42)\n",
    "    kmeans.fit(x)\n",
    "    wcss_list.append(kmeans.inertia_)"
   ]
  },
  {
   "cell_type": "markdown",
   "metadata": {},
   "source": [
    "- Inicializa una lista vacía **`wcss_list`** para almacenar los valores de la suma de los cuadrados dentro de los grupos (WCSS, por sus siglas en inglés).\n",
    "- Realiza un bucle **`for`** con 10 iteraciones, donde **`i`** varía de 1 a 10.\n",
    "- Dentro del bucle **`for`**, crea un objeto de modelo **`KMeans`** con **`n_clusters = i`** (el número de clústeres), **`init = \"k-means++\"`** (método de inicialización de los centroides) y **`random_state = 42`** (semilla para reproducibilidad).\n",
    "- Ajusta el modelo de **`KMeans`** a los datos **`x`** utilizando el método **`fit`**.\n",
    "- Calcula y guarda la suma de los cuadrados dentro de los clústeres en la lista **`wcss_list`** utilizando **`kmeans.inertia_`**, que representa el valor de la WCSS para el número actual de clústeres."
   ]
  },
  {
   "cell_type": "code",
   "execution_count": null,
   "metadata": {},
   "outputs": [],
   "source": [
    "plt.plot(range(1, 11), wcss_list)\n",
    "plt.title(\"Método Elbow\")\n",
    "plt.xlabel(\"Numero clusters\")\n",
    "plt.ylabel(\"Lista WCSS\")\n",
    "plt.show()"
   ]
  },
  {
   "cell_type": "markdown",
   "metadata": {},
   "source": [
    "- Después del bucle **`for`**, traza un gráfico de línea con el número de clústeres en el eje x y los valores de WCSS en el eje y usando **`plt.plot(range(1, 11), wcss_list)`**.\n",
    "- Agrega un título al gráfico con **`plt.title(\"Método Elbow\")`**, etiqueta los ejes x y y con **`plt.xlabel(\"Numero clusters\")`** y **`plt.ylabel(\"Lista WCSS\")`** respectivamente.\n",
    "- Muestra el gráfico utilizando **`plt.show()`**. Este gráfico se utiliza para determinar el número óptimo de clústeres mediante el método del codo (Elbow method)."
   ]
  }
 ],
 "metadata": {
  "language_info": {
   "name": "python"
  }
 },
 "nbformat": 4,
 "nbformat_minor": 2
}
