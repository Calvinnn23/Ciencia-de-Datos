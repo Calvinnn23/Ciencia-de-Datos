{
 "cells": [
  {
   "cell_type": "markdown",
   "metadata": {},
   "source": [
    "# Algoritmo Clasificación KNN\n",
    "\n",
    "A continuación, se dará el código en JupyterNotebook para el algoritmo de clasificación en KNN."
   ]
  },
  {
   "cell_type": "code",
   "execution_count": null,
   "metadata": {},
   "outputs": [],
   "source": [
    "# importar librerias\n",
    "import pandas as pd\n",
    "import numpy as np\n",
    "import matplotlib.pyplot as plt\n",
    "from sklearn.metrics import confusion_matrix\n",
    "from sklearn.model_selection import train_test_split\n",
    "from sklearn.preprocessing import StandardScaler\n",
    "from sklearn.neighbors import KNeighborsClassifier"
   ]
  },
  {
   "cell_type": "markdown",
   "metadata": {},
   "source": [
    "1. **`pandas as pd`:** Importa la librería Pandas para manejo de datos.\n",
    "2. **`numpy as np`:** Importa la librería NumPy para operaciones matemáticas\n",
    "3. **`matplotlib.pyplot as plt`:** Importa la librería Matplotlib para la creación de gráficos (opcional en este caso).\n",
    "4. **`from sklearn.metrics import confusion_matrix`:** Importa la función confusion_matrix de scikit-learn para crear la matriz de confusión.\n",
    "5. **`from sklearn.model_selection import train_test_split`:** Importa la función train_test_split de scikit-learn para dividir datos en entrenamiento y prueba.\n",
    "6. **`from sklearn.preprocessing import StandardScaler`:** Importa la clase StandardScaler de scikit-learn para el escalado de características.\n",
    "7. **`from sklearn.neighbors import KNeighborsClassifier`:** Importa la clase KNeighborsClassifier de scikit-learn para la clasificac KNN.\n",
    "KNN."
   ]
  },
  {
   "cell_type": "code",
   "execution_count": null,
   "metadata": {},
   "outputs": [],
   "source": [
    "# reading dataset\n",
    "dataset = pd.read_csv(\"user+data.csv\")\n",
    "x = dataset.iloc[:, 2:4].values\n",
    "y = dataset.iloc[:, 4].values\n",
    "dataset"
   ]
  },
  {
   "cell_type": "markdown",
   "metadata": {},
   "source": [
    "1. **`dataset = pd.read_csv(\"user+data.csv\")`:** Lee el dataset \"user+data.csv\" en un DataFrame de Pandas.\n",
    "2. **`x = dataset.iloc[:, 2:4].values`:** Extrae las características independientes (columnas del 2 al 3 excluyendo la última) del DataFrame y las convierte en un array NumPy, almacenándolas en x.\n",
    "3. **`y = dataset.iloc[:, 4].values`:** Extrae la variable dependiente (quinta columna) del DataFrame y la convierte en un array NumPy, almacenándola en y.\n",
    "4. **`dataset`:** Muestra el DataFrame completo para una vista previa de los datos."
   ]
  },
  {
   "cell_type": "code",
   "execution_count": null,
   "metadata": {},
   "outputs": [],
   "source": [
    "print(x)"
   ]
  },
  {
   "cell_type": "markdown",
   "metadata": {},
   "source": [
    "print(x): Imprime las características independientes."
   ]
  },
  {
   "cell_type": "code",
   "execution_count": null,
   "metadata": {},
   "outputs": [],
   "source": [
    "print(y)"
   ]
  },
  {
   "cell_type": "markdown",
   "metadata": {},
   "source": [
    "print(y): Imprime la variable dependiente."
   ]
  },
  {
   "cell_type": "code",
   "execution_count": null,
   "metadata": {},
   "outputs": [],
   "source": [
    "# Datos de entrenamiento y de prueba\n",
    "# (Datos divididos en dos partes)\n",
    "x_train, x_test, y_train, y_test = train_test_split(x, y, test_size = 0.25, random_state = 0)"
   ]
  },
  {
   "cell_type": "markdown",
   "metadata": {},
   "source": [
    "x_train, x_test, y_train, y_test = train_test_split(x, y, test_size = 0.25, random_state = 0): Divide las características (x) y la variable dependiente (y) en conjuntos de entrenamiento (75%) y prueba (25%) usando random_state=0 para garantizar la reproducibilidad de la división."
   ]
  },
  {
   "cell_type": "code",
   "execution_count": null,
   "metadata": {},
   "outputs": [],
   "source": [
    "sc_x = StandardScaler()\n",
    "x_train = sc_x.fit_transform(x_train)\n",
    "x_test = sc_x.fit_transform(x_test)"
   ]
  },
  {
   "cell_type": "markdown",
   "metadata": {},
   "source": [
    "1. **`sc_x = StandardScaler()`:** Crea un objeto `StandardScaler` para el escalado de características.\n",
    "2. **`x_train = sc_x.fit_transform(x_train)`:** Escala las características del conjunto de entrenamiento y las almacena en `x_train`.\n",
    "3. **`x_test = sc_x.transform(x_test)`:** Escala las características del conjunto de prueba usando el mismo escalador `sc_x` y las almacena en `x_test`."
   ]
  },
  {
   "cell_type": "code",
   "execution_count": null,
   "metadata": {},
   "outputs": [],
   "source": [
    "print(x_train)"
   ]
  },
  {
   "cell_type": "markdown",
   "metadata": {},
   "source": [
    "print(x_train): Imprime las características entrenadas escaladas (opcional)."
   ]
  },
  {
   "cell_type": "code",
   "execution_count": null,
   "metadata": {},
   "outputs": [],
   "source": [
    "print(x_test)"
   ]
  },
  {
   "cell_type": "markdown",
   "metadata": {},
   "source": [
    "print(x_test): Imprime las características de prueba escaladas (opcional)."
   ]
  },
  {
   "cell_type": "code",
   "execution_count": null,
   "metadata": {},
   "outputs": [],
   "source": [
    "classifier = KNeighborsClassifier(n_neighbors = 5, metric = \"minkowski\", p = 2)\n",
    "classifier.fit(x_train, y_train) "
   ]
  },
  {
   "cell_type": "markdown",
   "metadata": {},
   "source": [
    "1. **`classifier = KNeighborsClassifier(n_neighbors = 5, metric = \"minkowski\", p = 2)`:** Crea un objeto clasificador KNN con los siguientes parámetros:\n",
    "2. **`n_neighbors = 5`:** Especifica que se considerarán 5 vecinos más cercanos para la clasificación.\n",
    "3. **`metric = \"minkowski\"`:** Indica que se utilizará la distancia Minkowski para calcular la distancia entre puntos.\n",
    "4. **`p = 2`:** Define el valor de `p` para la distancia Minkowski (distancia euclidiana en este caso).\n",
    "5. **`classifier.fit(x_train, y_train)`:** Entrena el clasificador KNN utilizando los datos de entrenamiento (`x_train` y `y_train`)."
   ]
  },
  {
   "cell_type": "code",
   "execution_count": null,
   "metadata": {},
   "outputs": [],
   "source": [
    "y_pred = classifier.predict(x_test)\n",
    "\n",
    "# Creando matriz de confusion (error)\n",
    "cm = confusion_matrix(y_pred, y_test)\n",
    "print(cm)"
   ]
  },
  {
   "cell_type": "markdown",
   "metadata": {},
   "source": [
    "1. **`y_pred = classifier.predict(x_test)`:** Utiliza el modelo entrenado para realizar predicciones sobre las características del conjunto de prueba (`x_test`) y almacena las predicciones en `y_pred`.\n",
    "2. **`cm = confusion_matrix(y_pred, y_test)`:** Crea una matriz de confusión utilizando las predicciones (`y_pred`) y las etiquetas reales (`y_test`).\n",
    "3. **`print(cm)`:** Imprime la matriz de confusión, la cual muestra el número de aciertos y errores en la clasificación.\n",
    "    - **Fila 1 = Verdaderos** (64 verdaderos, 3 falsos)\n",
    "    - **Fila 2 = Falsos** (4 verdaderos, 29 falsos)\n",
    "        - 64 + 29 = 93\n",
    "        - 3 + 4 = 7\n",
    "        - 93 aciertos\n",
    "        - 7 errores"
   ]
  }
 ],
 "metadata": {
  "language_info": {
   "name": "python"
  }
 },
 "nbformat": 4,
 "nbformat_minor": 2
}
